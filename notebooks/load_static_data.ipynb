{
 "cells": [
  {
   "cell_type": "code",
   "execution_count": 1,
   "metadata": {},
   "outputs": [],
   "source": [
    "import pandas as pd\n",
    "from cassandra.cluster import Cluster\n",
    "from cassandra.query import UNSET_VALUE\n",
    "from datetime import datetime\n",
    "import numpy as np\n",
    "import uuid"
   ]
  },
  {
   "cell_type": "code",
   "execution_count": 2,
   "metadata": {},
   "outputs": [],
   "source": [
    "df = pd.read_csv(\"../data/reddit_database.csv\")"
   ]
  },
  {
   "cell_type": "code",
   "execution_count": 3,
   "metadata": {},
   "outputs": [],
   "source": [
    "cluster = Cluster([\"localhost\"])\n",
    "session = cluster.connect(\"reddit\")"
   ]
  },
  {
   "cell_type": "code",
   "execution_count": 8,
   "metadata": {},
   "outputs": [
    {
     "data": {
      "text/plain": [
       "(count    545427.000000\n",
       " mean          3.927306\n",
       " std          24.602288\n",
       " min           0.000000\n",
       " 25%           1.000000\n",
       " 50%           1.000000\n",
       " 75%           1.000000\n",
       " max        8331.000000\n",
       " Name: score, dtype: float64,\n",
       " count                                                274209\n",
       " unique                                               263705\n",
       " top       Show off the machine learning projects that yo...\n",
       " freq                                                     98\n",
       " Name: post, dtype: object)"
      ]
     },
     "execution_count": 8,
     "metadata": {},
     "output_type": "execute_result"
    }
   ],
   "source": [
    "df[\"score\"].describe(), df[\"post\"].describe()"
   ]
  },
  {
   "cell_type": "code",
   "execution_count": 10,
   "metadata": {},
   "outputs": [],
   "source": [
    "for index, row in df.iterrows():\n",
    "    r = {\n",
    "        \"id\": row[\"id\"],\n",
    "        \"num_comments\": int(row[\"num_comments\"]),\n",
    "        \"name\": UNSET_VALUE,\n",
    "        \"author\": row[\"author\"],\n",
    "        \"title\": row[\"title\"],\n",
    "        \"selftext\": row[\"post\"] if row[\"post\"] is not np.NaN else UNSET_VALUE,\n",
    "        \"subreddit\": row[\"subreddit\"],\n",
    "        \"score\": int(row[\"score\"]),\n",
    "        \"over_18\": False,\n",
    "        \"timestamp\": datetime.fromtimestamp(row[\"created_timestamp\"]),\n",
    "        \"url\": row[\"full_link\"],\n",
    "    }\n",
    "    ps = session.prepare( \n",
    "        \"\"\"\n",
    "        INSERT INTO reddit.posts (\n",
    "            uuid,\n",
    "            num_comments,\n",
    "            id,\n",
    "            name,\n",
    "            author,\n",
    "            title,\n",
    "            selftext,\n",
    "            subreddit,\n",
    "            score,\n",
    "            over_18,\n",
    "            url,\n",
    "            api_timestamp\n",
    "        )\n",
    "        VALUES (?, ?, ?, ?, ?, ?, ?, ?, ?, ?, ?, ?)\n",
    "        \"\"\"\n",
    "    )\n",
    "    session.execute(\n",
    "        ps, \n",
    "        (\n",
    "            uuid.uuid1(),\n",
    "            r[\"num_comments\"],\n",
    "            r[\"id\"],\n",
    "            r[\"name\"],\n",
    "            r[\"author\"],\n",
    "            r[\"title\"],\n",
    "            r[\"selftext\"],\n",
    "            r[\"subreddit\"],\n",
    "            r[\"score\"],\n",
    "            r[\"over_18\"],\n",
    "            r[\"url\"],\n",
    "            r[\"timestamp\"],\n",
    "        )\n",
    "    )"
   ]
  },
  {
   "cell_type": "code",
   "execution_count": null,
   "metadata": {},
   "outputs": [],
   "source": []
  }
 ],
 "metadata": {
  "kernelspec": {
   "display_name": ".venv",
   "language": "python",
   "name": "python3"
  },
  "language_info": {
   "codemirror_mode": {
    "name": "ipython",
    "version": 3
   },
   "file_extension": ".py",
   "mimetype": "text/x-python",
   "name": "python",
   "nbconvert_exporter": "python",
   "pygments_lexer": "ipython3",
   "version": "3.10.6"
  },
  "orig_nbformat": 4,
  "vscode": {
   "interpreter": {
    "hash": "1be8a962a393b2aeefe7a3bafb3ab1909ae95cafaab863eea5240989b04f3781"
   }
  }
 },
 "nbformat": 4,
 "nbformat_minor": 2
}
